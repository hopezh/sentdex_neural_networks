{
 "nbformat": 4,
 "nbformat_minor": 2,
 "metadata": {
  "language_info": {
   "name": "python",
   "codemirror_mode": {
    "name": "ipython",
    "version": 3
   },
   "version": "3.7.5-final"
  },
  "orig_nbformat": 2,
  "file_extension": ".py",
  "mimetype": "text/x-python",
  "name": "python",
  "npconvert_exporter": "python",
  "pygments_lexer": "ipython3",
  "version": 3,
  "kernelspec": {
   "name": "python37564bit42731fe29a1c4072b88558cb14c14b00",
   "display_name": "Python 3.7.5 64-bit"
  }
 },
 "cells": [
  {
   "cell_type": "markdown",
   "metadata": {},
   "source": [
    "# sentdex: bare calculations"
   ],
   "execution_count": null,
   "outputs": []
  },
  {
   "cell_type": "code",
   "execution_count": 1,
   "metadata": {},
   "outputs": [
    {
     "output_type": "stream",
     "name": "stdout",
     "text": "2.3\n"
    }
   ],
   "source": [
    "inputs = [1., 2., 3.]\n",
    "weights = [0.2, 0.8, -0.5]\n",
    "bias = 2.0\n",
    "\n",
    "output = inputs[0]*weights[0] + inputs[1]*weights[1] + inputs[2]*weights[2] + bias \n",
    "\n",
    "print(output)"
   ]
  },
  {
   "cell_type": "code",
   "execution_count": 2,
   "metadata": {},
   "outputs": [
    {
     "output_type": "execute_result",
     "data": {
      "text/plain": "[7.2, -1.5199999999999996, 1.5749999999999997]"
     },
     "metadata": {},
     "execution_count": 2
    }
   ],
   "source": [
    "inputs = [1., 5., 3., 2.5]\n",
    "\n",
    "weights1 = [0.2, 0.8, -0.5, 1.0]\n",
    "weights2 = [0.5, -0.91, 0.26, -0.5]\n",
    "weights3 = [-0.26, -0.27, 0.17, 0.87]\n",
    "\n",
    "bias1 = 2.0\n",
    "bias2 = 3.0\n",
    "bias3 = 0.5\n",
    "\n",
    "output = ([\n",
    "    inputs[0]*weights1[0] + inputs[1]*weights1[1] + inputs[2]*weights1[2] + inputs[3]*weights1[3] + bias1, \n",
    "    inputs[0]*weights2[0] + inputs[1]*weights2[1] + inputs[2]*weights2[2] + inputs[3]*weights2[3] + bias2, \n",
    "    inputs[0]*weights3[0] + inputs[1]*weights3[1] + inputs[2]*weights3[2] + inputs[3]*weights3[3] + bias3\n",
    "])\n",
    "\n",
    "output"
   ]
  },
  {
   "cell_type": "markdown",
   "metadata": {},
   "source": [
    "# hopez: calculation via numpy array"
   ],
   "execution_count": null,
   "outputs": []
  },
  {
   "cell_type": "code",
   "execution_count": 3,
   "metadata": {},
   "outputs": [
    {
     "output_type": "stream",
     "name": "stdout",
     "text": "input arr_1d\n[1.  5.  3.  2.5] \n\nweights arr_2d\n[[ 0.2   0.8  -0.5   1.  ]\n [ 0.5  -0.91  0.26 -0.5 ]\n [-0.26 -0.27  0.17  0.87]] \n\nbias arr_1d\n[2.  3.  0.5] \n\n"
    }
   ],
   "source": [
    "import numpy as np\n",
    "\n",
    "inputs_arr_1d = np.array([1., 5., 3., 2.5])\n",
    "\n",
    "weights_arr_2d = np.array([\n",
    "    [0.2, 0.8, -0.5, 1.0], \n",
    "    [0.5, -0.91, 0.26, -0.5],\n",
    "    [-0.26, -0.27, 0.17, 0.87]\n",
    "])\n",
    "\n",
    "bias_arr_1d = np.array([2.0, 3.0, 0.5])\n",
    "\n",
    "print('input arr_1d')\n",
    "print(inputs_arr_1d, '\\n')\n",
    "print('weights arr_2d')\n",
    "print(weights_arr_2d, '\\n')\n",
    "print('bias arr_1d')\n",
    "print(bias_arr_1d, '\\n')"
   ]
  },
  {
   "cell_type": "markdown",
   "metadata": {},
   "source": [
    "# hopez: calculation via numpy array"
   ],
   "execution_count": null,
   "outputs": []
  },
  {
   "cell_type": "code",
   "execution_count": 4,
   "metadata": {},
   "outputs": [
    {
     "output_type": "execute_result",
     "data": {
      "text/plain": "array([[1. , 5. , 3. , 2.5],\n       [1. , 5. , 3. , 2.5],\n       [1. , 5. , 3. , 2.5]])"
     },
     "metadata": {},
     "execution_count": 4
    }
   ],
   "source": [
    "inputs_arr_2d = np.tile(inputs_arr_1d, (3, 1))\n",
    "inputs_arr_2d"
   ]
  },
  {
   "cell_type": "code",
   "execution_count": 5,
   "metadata": {},
   "outputs": [
    {
     "output_type": "execute_result",
     "data": {
      "text/plain": "array([[ 0.2  ,  4.   , -1.5  ,  2.5  ],\n       [ 0.5  , -4.55 ,  0.78 , -1.25 ],\n       [-0.26 , -1.35 ,  0.51 ,  2.175]])"
     },
     "metadata": {},
     "execution_count": 5
    }
   ],
   "source": [
    "inputs_x_weights = np.multiply(inputs_arr_2d, weights_arr_2d)\n",
    "inputs_x_weights "
   ]
  },
  {
   "cell_type": "code",
   "execution_count": 6,
   "metadata": {},
   "outputs": [
    {
     "output_type": "execute_result",
     "data": {
      "text/plain": "array([ 5.2  , -4.52 ,  1.075])"
     },
     "metadata": {},
     "execution_count": 6
    }
   ],
   "source": [
    "sum_inputs_x_weights = np.sum(inputs_x_weights, axis=1)\n",
    "sum_inputs_x_weights"
   ]
  },
  {
   "cell_type": "code",
   "execution_count": 7,
   "metadata": {},
   "outputs": [
    {
     "output_type": "execute_result",
     "data": {
      "text/plain": "array([ 7.2  , -1.52 ,  1.575])"
     },
     "metadata": {},
     "execution_count": 7
    }
   ],
   "source": [
    "output2 = np.add(sum_inputs_x_weights, bias_arr_1d)\n",
    "output2"
   ]
  },
  {
   "cell_type": "code",
   "execution_count": 8,
   "metadata": {},
   "outputs": [
    {
     "output_type": "execute_result",
     "data": {
      "text/plain": "numpy.ndarray"
     },
     "metadata": {},
     "execution_count": 8
    }
   ],
   "source": [
    "type(output2)"
   ]
  }
 ]
}